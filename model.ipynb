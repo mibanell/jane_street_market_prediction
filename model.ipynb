{
 "cells": [
  {
   "cell_type": "markdown",
   "metadata": {
    "papermill": {
     "duration": 0.015179,
     "end_time": "2021-02-22T19:08:56.273023",
     "exception": false,
     "start_time": "2021-02-22T19:08:56.257844",
     "status": "completed"
    },
    "tags": []
   },
   "source": [
    "# Jane Street Market Prediction"
   ]
  },
  {
   "cell_type": "markdown",
   "metadata": {
    "papermill": {
     "duration": 0.013215,
     "end_time": "2021-02-22T19:08:56.299777",
     "exception": false,
     "start_time": "2021-02-22T19:08:56.286562",
     "status": "completed"
    },
    "tags": []
   },
   "source": [
    "## Libraries "
   ]
  },
  {
   "cell_type": "code",
   "execution_count": 1,
   "metadata": {
    "_cell_guid": "039d0189-bb03-4948-96b4-9f7774387ae7",
    "_uuid": "b036fa20-66e0-4af4-8e1b-5e7d6494afe3",
    "execution": {
     "iopub.execute_input": "2021-02-22T19:08:56.332040Z",
     "iopub.status.busy": "2021-02-22T19:08:56.331370Z",
     "iopub.status.idle": "2021-02-22T19:09:01.791078Z",
     "shell.execute_reply": "2021-02-22T19:09:01.789574Z"
    },
    "papermill": {
     "duration": 5.478295,
     "end_time": "2021-02-22T19:09:01.791400",
     "exception": false,
     "start_time": "2021-02-22T19:08:56.313105",
     "status": "completed"
    },
    "tags": []
   },
   "outputs": [],
   "source": [
    "import pandas as pd\n",
    "import numpy as np\n",
    "import seaborn as sns\n",
    "from random import sample, seed\n",
    "import gc\n",
    "import matplotlib as mpl\n",
    "import matplotlib.pyplot as plt\n",
    "import tensorflow as tf\n",
    "from tensorflow import keras\n",
    "import tensorflow_addons as tfa"
   ]
  },
  {
   "cell_type": "code",
   "execution_count": 2,
   "metadata": {
    "execution": {
     "iopub.execute_input": "2021-02-22T19:09:01.851969Z",
     "iopub.status.busy": "2021-02-22T19:09:01.851009Z",
     "iopub.status.idle": "2021-02-22T19:09:01.888047Z",
     "shell.execute_reply": "2021-02-22T19:09:01.887294Z"
    },
    "papermill": {
     "duration": 0.065908,
     "end_time": "2021-02-22T19:09:01.888267",
     "exception": false,
     "start_time": "2021-02-22T19:09:01.822359",
     "status": "completed"
    },
    "tags": []
   },
   "outputs": [],
   "source": [
    "import janestreet\n",
    "env = janestreet.make_env() # initialize the environment\n",
    "iter_test = env.iter_test() # an iterator which loops over the test set"
   ]
  },
  {
   "cell_type": "code",
   "execution_count": 3,
   "metadata": {
    "execution": {
     "iopub.execute_input": "2021-02-22T19:09:02.819045Z",
     "iopub.status.busy": "2021-02-22T19:09:02.818467Z",
     "iopub.status.idle": "2021-02-22T19:09:02.825145Z",
     "shell.execute_reply": "2021-02-22T19:09:02.824710Z"
    },
    "papermill": {
     "duration": 0.909804,
     "end_time": "2021-02-22T19:09:02.825303",
     "exception": false,
     "start_time": "2021-02-22T19:09:01.915499",
     "status": "completed"
    },
    "tags": []
   },
   "outputs": [
    {
     "name": "stdout",
     "output_type": "stream",
     "text": [
      "Num GPUs Available:  1\n"
     ]
    }
   ],
   "source": [
    "print(\"Num GPUs Available: \", len(tf.config.experimental.list_physical_devices('GPU')))"
   ]
  },
  {
   "cell_type": "code",
   "execution_count": 4,
   "metadata": {
    "execution": {
     "iopub.execute_input": "2021-02-22T19:09:02.861633Z",
     "iopub.status.busy": "2021-02-22T19:09:02.860986Z",
     "iopub.status.idle": "2021-02-22T19:09:02.879485Z",
     "shell.execute_reply": "2021-02-22T19:09:02.880305Z"
    },
    "papermill": {
     "duration": 0.038639,
     "end_time": "2021-02-22T19:09:02.880449",
     "exception": false,
     "start_time": "2021-02-22T19:09:02.841810",
     "status": "completed"
    },
    "tags": []
   },
   "outputs": [],
   "source": [
    "SEED = 666\n",
    "\n",
    "np.random.seed(SEED)\n",
    "tf.keras.backend.clear_session()\n",
    "tf.random.set_seed(SEED)\n",
    "seed(SEED)"
   ]
  },
  {
   "cell_type": "markdown",
   "metadata": {
    "papermill": {
     "duration": 0.014963,
     "end_time": "2021-02-22T19:09:02.910287",
     "exception": false,
     "start_time": "2021-02-22T19:09:02.895324",
     "status": "completed"
    },
    "tags": []
   },
   "source": [
    "## Data"
   ]
  },
  {
   "cell_type": "code",
   "execution_count": 5,
   "metadata": {
    "execution": {
     "iopub.execute_input": "2021-02-22T19:09:02.945252Z",
     "iopub.status.busy": "2021-02-22T19:09:02.944708Z",
     "iopub.status.idle": "2021-02-22T19:11:13.359225Z",
     "shell.execute_reply": "2021-02-22T19:11:13.358644Z"
    },
    "papermill": {
     "duration": 130.434928,
     "end_time": "2021-02-22T19:11:13.359388",
     "exception": false,
     "start_time": "2021-02-22T19:09:02.924460",
     "status": "completed"
    },
    "tags": []
   },
   "outputs": [],
   "source": [
    "# Load data\n",
    "data = pd.read_csv('../input/jane-street-market-prediction/train.csv')\n",
    "tags = pd.read_csv('../input/jane-street-market-prediction/features.csv')\n",
    "tags = tags.loc[tags.feature.isin(data.columns)] # ¿?¿?¿?¿?"
   ]
  },
  {
   "cell_type": "code",
   "execution_count": 6,
   "metadata": {
    "execution": {
     "iopub.execute_input": "2021-02-22T19:11:13.395025Z",
     "iopub.status.busy": "2021-02-22T19:11:13.394506Z",
     "iopub.status.idle": "2021-02-22T19:11:16.472219Z",
     "shell.execute_reply": "2021-02-22T19:11:16.471316Z"
    },
    "papermill": {
     "duration": 3.097922,
     "end_time": "2021-02-22T19:11:16.472363",
     "exception": false,
     "start_time": "2021-02-22T19:11:13.374441",
     "status": "completed"
    },
    "tags": []
   },
   "outputs": [],
   "source": [
    "# Filter out rows where weight = 0\n",
    "data = data.loc[data.weight != 0,:]\n",
    "# Filter out first data\n",
    "data = data.loc[data.date > 82,:]\n",
    "data = data.reset_index(drop=True)\n",
    "# Target variable\n",
    "data['action'] = (data.resp > 0).astype(np.int8)\n",
    "\n",
    "# resp_1 > 0 resp_2 > 0 ...\n",
    "resp_cols = ['resp_1', 'resp_2', 'resp_3', 'resp', 'resp_4']\n",
    "y = np.stack([(data[c] > 0).astype('int') for c in resp_cols]).T"
   ]
  },
  {
   "cell_type": "code",
   "execution_count": 7,
   "metadata": {
    "execution": {
     "iopub.execute_input": "2021-02-22T19:11:16.983084Z",
     "iopub.status.busy": "2021-02-22T19:11:16.982281Z",
     "iopub.status.idle": "2021-02-22T19:11:16.985584Z",
     "shell.execute_reply": "2021-02-22T19:11:16.984801Z"
    },
    "papermill": {
     "duration": 0.498607,
     "end_time": "2021-02-22T19:11:16.985708",
     "exception": false,
     "start_time": "2021-02-22T19:11:16.487101",
     "status": "completed"
    },
    "tags": []
   },
   "outputs": [],
   "source": [
    "# feature names\n",
    "feature_names = pd.Series(data.filter(regex='feature_').columns)\n",
    "feature_names_numbers = feature_names.str.slice(start=8).astype(int)"
   ]
  },
  {
   "cell_type": "markdown",
   "metadata": {
    "papermill": {
     "duration": 0.014231,
     "end_time": "2021-02-22T19:11:17.014640",
     "exception": false,
     "start_time": "2021-02-22T19:11:17.000409",
     "status": "completed"
    },
    "tags": []
   },
   "source": [
    "## Train/test split"
   ]
  },
  {
   "cell_type": "code",
   "execution_count": 8,
   "metadata": {
    "execution": {
     "iopub.execute_input": "2021-02-22T19:11:17.049752Z",
     "iopub.status.busy": "2021-02-22T19:11:17.049037Z",
     "iopub.status.idle": "2021-02-22T19:11:17.875054Z",
     "shell.execute_reply": "2021-02-22T19:11:17.874095Z"
    },
    "papermill": {
     "duration": 0.845949,
     "end_time": "2021-02-22T19:11:17.875205",
     "exception": false,
     "start_time": "2021-02-22T19:11:17.029256",
     "status": "completed"
    },
    "tags": []
   },
   "outputs": [],
   "source": [
    "dates = data.date.unique().tolist()\n",
    "train_dates = dates[:int(round(len(dates)*0.7, 0))]\n",
    "test_dates = dates[int(round(len(dates)*0.7, 0)):]\n",
    "\n",
    "X_train = data.loc[data.date.isin(train_dates),:]\n",
    "y_train = y[X_train.index,:]\n",
    "\n",
    "X_val = data.loc[data.date.isin(test_dates),:]\n",
    "y_val = y[X_val.index,:]"
   ]
  },
  {
   "cell_type": "markdown",
   "metadata": {
    "papermill": {
     "duration": 0.014337,
     "end_time": "2021-02-22T19:11:17.904303",
     "exception": false,
     "start_time": "2021-02-22T19:11:17.889966",
     "status": "completed"
    },
    "tags": []
   },
   "source": [
    "## NAs treatment"
   ]
  },
  {
   "cell_type": "code",
   "execution_count": 9,
   "metadata": {
    "execution": {
     "iopub.execute_input": "2021-02-22T19:11:17.938890Z",
     "iopub.status.busy": "2021-02-22T19:11:17.938038Z",
     "iopub.status.idle": "2021-02-22T19:11:19.479310Z",
     "shell.execute_reply": "2021-02-22T19:11:19.479710Z"
    },
    "papermill": {
     "duration": 1.561226,
     "end_time": "2021-02-22T19:11:19.479877",
     "exception": false,
     "start_time": "2021-02-22T19:11:17.918651",
     "status": "completed"
    },
    "tags": []
   },
   "outputs": [
    {
     "name": "stderr",
     "output_type": "stream",
     "text": [
      "/opt/conda/lib/python3.7/site-packages/pandas/core/series.py:4536: SettingWithCopyWarning: \n",
      "A value is trying to be set on a copy of a slice from a DataFrame\n",
      "\n",
      "See the caveats in the documentation: https://pandas.pydata.org/pandas-docs/stable/user_guide/indexing.html#returning-a-view-versus-a-copy\n",
      "  downcast=downcast,\n"
     ]
    }
   ],
   "source": [
    "nulls = X_train.isnull().sum()\n",
    "nulls_list = list(nulls[nulls >(0.1 * len(data))].index)\n",
    "nulls_list\n",
    "\n",
    "# Fill train NAs\n",
    "X_train.fillna(X_train.mean(),inplace=True)\n",
    "\n",
    "f_mean = np.mean(X_train[feature_names[1:]].values, axis=0)\n",
    "\n",
    "# Fill val NAs\n",
    "X_val.fillna(X_train.mean(), inplace=True)"
   ]
  },
  {
   "cell_type": "markdown",
   "metadata": {
    "papermill": {
     "duration": 0.014698,
     "end_time": "2021-02-22T19:11:19.510484",
     "exception": false,
     "start_time": "2021-02-22T19:11:19.495786",
     "status": "completed"
    },
    "tags": []
   },
   "source": [
    "## Feature names encoding\n",
    "\n",
    "A new feature names set is defined.\n",
    "\n",
    "New names will represent the index in the features axis of the tensor.\n",
    "\n",
    "Features with same tags but tag4...tag0 will be in the same axis, as they are (assumed to be) the same feature measured in different timeframes.\n",
    "\n",
    "This is assummed based on two insights:\n",
    "\n",
    "1. it has been observed that there are many groups of features with the same tags except for tags 0...4, and there is a high correlation ~0.8 between these features.\n",
    "\n",
    "1. Inside a group of features with different tags 0...4, the correlation between feature with tag 4 with the other features decreases as the tag value decreases (3,2,1,0)."
   ]
  },
  {
   "cell_type": "code",
   "execution_count": 10,
   "metadata": {
    "execution": {
     "iopub.execute_input": "2021-02-22T19:11:19.549487Z",
     "iopub.status.busy": "2021-02-22T19:11:19.548639Z",
     "iopub.status.idle": "2021-02-22T19:11:21.744394Z",
     "shell.execute_reply": "2021-02-22T19:11:21.744773Z"
    },
    "papermill": {
     "duration": 2.219619,
     "end_time": "2021-02-22T19:11:21.744924",
     "exception": false,
     "start_time": "2021-02-22T19:11:19.525305",
     "status": "completed"
    },
    "tags": []
   },
   "outputs": [
    {
     "data": {
      "image/png": "[encoded data removed]",
      "text/plain": [
       "<Figure size 2304x1008 with 1 Axes>"
      ]
     },
     "metadata": {
      "needs_background": "light"
     },
     "output_type": "display_data"
    }
   ],
   "source": [
    "plt.figure(figsize=(32,14))\n",
    "sns.heatmap(tags.iloc[:,1:].T,\n",
    "            cbar=False,\n",
    "            xticklabels=True,\n",
    "            yticklabels=True,\n",
    "            cmap=\"Oranges\")\n",
    "plt.show()"
   ]
  },
  {
   "cell_type": "code",
   "execution_count": 11,
   "metadata": {
    "execution": {
     "iopub.execute_input": "2021-02-22T19:11:21.787154Z",
     "iopub.status.busy": "2021-02-22T19:11:21.786586Z",
     "iopub.status.idle": "2021-02-22T19:11:21.789899Z",
     "shell.execute_reply": "2021-02-22T19:11:21.789468Z"
    },
    "papermill": {
     "duration": 0.028558,
     "end_time": "2021-02-22T19:11:21.790000",
     "exception": false,
     "start_time": "2021-02-22T19:11:21.761442",
     "status": "completed"
    },
    "tags": []
   },
   "outputs": [],
   "source": [
    "# Dict with the tags groups.\n",
    "# Groups are set manually based on the observation of features with common \n",
    "# tags and the assumption that tags 0...4 represent different timeframes.\n",
    "# Each group is defined by a hierarchy of levels of tags\n",
    "\n",
    "group_tags = {\n",
    "    'g0': {\n",
    "        'lv0': [6],\n",
    "        'lv1': [7,8,10,11,12,13],\n",
    "        'lv2': [9],\n",
    "        'timeframe': [4,3,2,1,0]\n",
    "    },\n",
    "    'g1': {\n",
    "        'lv0': [14]\n",
    "    },\n",
    "    'g2': {\n",
    "        'lv0': [18],\n",
    "        'lv1': [15,17]\n",
    "    },\n",
    "    'g3': {\n",
    "        'lv0': [19],\n",
    "        'lv1': [15,17]\n",
    "    },\n",
    "    'g4': {\n",
    "        'lv0': [21],\n",
    "        'timeframe': [4,3,2,1,0]\n",
    "    },\n",
    "    'g5': {\n",
    "        'lv0': [22],\n",
    "        'lv1': [12,13]\n",
    "    },\n",
    "    'g6': {\n",
    "        'lv0': [20],\n",
    "        'lv1': [9,16]\n",
    "    },\n",
    "    'g7': {\n",
    "        'lv0': [23],\n",
    "        'lv1': [24,25,26,27],\n",
    "        'lv2': [15,16,17],\n",
    "        'lv3': [5],\n",
    "        'timeframe': [4,3,2,1,0]\n",
    "    },\n",
    "    'g8': {\n",
    "        'lv0': [28],\n",
    "        'lv1': [20],\n",
    "        'lv2': [16],\n",
    "        'timeframe': [4,3,2,1,0]\n",
    "    }\n",
    "}\n",
    "\n",
    "# Add 'tag_' to each tag value in the dict\n",
    "group_tags_str = dict()\n",
    "for group, levels in group_tags.items():\n",
    "  group_tags_str[group] = {}\n",
    "  for lv, lv_tags in levels.items():\n",
    "    group_tags_str[group][lv] = ['tag_' + str(v) for v in lv_tags]"
   ]
  },
  {
   "cell_type": "code",
   "execution_count": 12,
   "metadata": {
    "execution": {
     "iopub.execute_input": "2021-02-22T19:11:22.675966Z",
     "iopub.status.busy": "2021-02-22T19:11:21.830836Z",
     "iopub.status.idle": "2021-02-22T19:11:22.682758Z",
     "shell.execute_reply": "2021-02-22T19:11:22.681881Z"
    },
    "papermill": {
     "duration": 0.876528,
     "end_time": "2021-02-22T19:11:22.682928",
     "exception": false,
     "start_time": "2021-02-22T19:11:21.806400",
     "status": "completed"
    },
    "tags": []
   },
   "outputs": [
    {
     "name": "stdout",
     "output_type": "stream",
     "text": [
      "Max number original features with same new feature: 5\n",
      "Min number original features with same new feature: 1\n",
      "Are there missing features in the encoding dataframe?  no\n"
     ]
    }
   ],
   "source": [
    "# Loop to get the new features encodings sorted by levels and sublevels\n",
    "features_new_encoding = []\n",
    "features_new_encoding_idx = 0\n",
    "features_original = []\n",
    "n_timeframes = 1 # artificial timeframes for features that don't have real timeframes\n",
    "\n",
    "for key, value in group_tags_str.items():\n",
    "  # Add combinations for lower sub level\n",
    "  levels = list(value.keys())\n",
    "  # If there are >=1 levels\n",
    "  if len(levels) >= 1:\n",
    "    for tag_lv0 in value[levels[0]]:\n",
    "      # Search feature/s\n",
    "      tags_set = [tag_lv0]\n",
    "      features_tag = list(tags.loc[(tags.loc[:,[x not in ['feature'] + tags_set for x in list(tags.columns)]].any(axis=1) == False) & tags[tags_set].all(axis=1), 'feature'])\n",
    "      # If there are features with only that tag\n",
    "      if len(features_tag) > 0:\n",
    "        for feature in features_tag:\n",
    "            # If the feature is not in the list already\n",
    "            # (Ex. feature 1 added for tag6,tag7 and then would be added for tag6,tag7,None)\n",
    "            if feature not in features_original:\n",
    "              # Add feature names to the old list\n",
    "              features_original+=[feature] * n_timeframes\n",
    "              features_new_encoding+=[features_new_encoding_idx] * n_timeframes\n",
    "              features_new_encoding_idx += 1\n",
    "      \n",
    "      # If there are >=2 levels\n",
    "      if len(levels) >= 2:\n",
    "        # If the 2nd level is timeframe\n",
    "        if levels[1] == 'timeframe':\n",
    "          timeframe_features = []\n",
    "          timeframe_features_here = False\n",
    "          for tag_t in value[levels[1]]:\n",
    "            # Search feature/s\n",
    "            tags_set = [tag_lv0, tag_t]\n",
    "            features_tag = list(tags.loc[(tags.loc[:,[x not in ['feature'] + tags_set for x in list(tags.columns)]].any(axis=1) == False) & tags[tags_set].all(axis=1), 'feature'])\n",
    "            # If there is a feature with those 2 tags\n",
    "            if len(features_tag) > 0:\n",
    "              timeframe_features_here = True\n",
    "              # Add feature names to the old list\n",
    "              features_original+=features_tag\n",
    "              # Add new encodings to the encoding list\n",
    "              features_new_encoding+=[features_new_encoding_idx] * 1\n",
    "          if timeframe_features_here:\n",
    "            features_new_encoding_idx += 1\n",
    "        else:\n",
    "          for tag_lv1 in value[levels[1]] + [None]:\n",
    "            # Create tag set for current level\n",
    "            tags_set = [tag_lv0, tag_lv1]\n",
    "            # Remove none\n",
    "            tags_set = [x for x in tags_set if x is not None]\n",
    "            # Search feature/s\n",
    "            features_tag = list(tags.loc[(tags.loc[:,[x not in ['feature'] + tags_set for x in list(tags.columns)]].any(axis=1) == False) & tags[tags_set].all(axis=1), 'feature'])\n",
    "            # If there are features with those 2 tags\n",
    "            if len(features_tag) > 0:\n",
    "              for feature in features_tag:\n",
    "                # If the feature is not in the list already\n",
    "                # (Ex. feature 1 added for tag6,tag7 and then would be added for tag6,tag7,None)\n",
    "                if feature not in features_original:\n",
    "                  # Add feature names to the old list\n",
    "                  features_original+=[feature] * n_timeframes\n",
    "                  features_new_encoding+=[features_new_encoding_idx] * n_timeframes\n",
    "                  features_new_encoding_idx += 1\n",
    "      \n",
    "            # If there are >=3 levels\n",
    "            if len(levels) >= 3:\n",
    "              # If the 3rd level is timeframe\n",
    "              if levels[2] == 'timeframe':\n",
    "                timeframe_features_here = False\n",
    "                for tag_t in value[levels[2]]:\n",
    "                  # Create tag set for current level\n",
    "                  tags_set = [tag_lv0, tag_lv1, tag_t]\n",
    "                  # Remove none\n",
    "                  tags_set = [x for x in tags_set if x is not None]\n",
    "                  # Search feature/s\n",
    "                  features_tag = list(tags.loc[(tags.loc[:,[x not in ['feature'] + tags_set for x in list(tags.columns)]].any(axis=1) == False) & tags[tags_set].all(axis=1), 'feature'])\n",
    "                  # If there is a feature with those 3 tags\n",
    "                  if len(features_tag) > 0:\n",
    "                    timeframe_features_here = True\n",
    "                    # Add feature names to the old list\n",
    "                    features_original+=features_tag\n",
    "                    # Add new encodings to the encoding list\n",
    "                    features_new_encoding+=[features_new_encoding_idx] * 1\n",
    "                if timeframe_features_here:\n",
    "                  features_new_encoding_idx += 1\n",
    "              else:\n",
    "                for tag_lv2 in value[levels[2]] + [None]:\n",
    "                  # Create tag set for current level\n",
    "                  tags_set = [tag_lv0, tag_lv1, tag_lv2]\n",
    "                  # Remove none\n",
    "                  tags_set = [x for x in tags_set if x is not None]\n",
    "                  # Search feature/s\n",
    "                  features_tag = list(tags.loc[(tags.loc[:,[x not in ['feature'] + tags_set for x in list(tags.columns)]].any(axis=1) == False) & tags[tags_set].all(axis=1), 'feature'])\n",
    "                  # If there are features with those 2 tags\n",
    "                  if len(features_tag) > 0:\n",
    "                    for feature in features_tag:\n",
    "                      # If the feature is not in the list already\n",
    "                      # (Ex. feature 1 added for tag6,tag7 and then would be added for tag6,tag7,None)\n",
    "                      if feature not in features_original:\n",
    "                        # Add feature names to the old list\n",
    "                        features_original+=[feature] * n_timeframes\n",
    "                        features_new_encoding+=[features_new_encoding_idx] * n_timeframes\n",
    "                        features_new_encoding_idx += 1\n",
    "                \n",
    "                  # If there are 4 levels\n",
    "                  if len(levels) >= 4:\n",
    "                    # If the 4rd level is timeframe\n",
    "                    if levels[3] == 'timeframe':\n",
    "                      timeframe_features_here = False\n",
    "                      for tag_t in value[levels[3]]:\n",
    "                        # Create tag set for current level\n",
    "                        tags_set = [tag_lv0, tag_lv1, tag_lv2, tag_t]\n",
    "                        # Remove none\n",
    "                        tags_set = [x for x in tags_set if x is not None]\n",
    "                        # Search feature/s\n",
    "                        features_tag = list(tags.loc[(tags.loc[:,[x not in ['feature'] + tags_set for x in list(tags.columns)]].any(axis=1) == False) & tags[tags_set].all(axis=1), 'feature'])\n",
    "                        # If there is a feature with those 3 tags\n",
    "                        if len(features_tag) > 0:\n",
    "                          timeframe_features_here = True\n",
    "                          # Add feature names to the old list\n",
    "                          features_original+=features_tag\n",
    "                          # Add new encodings to the encoding list\n",
    "                          features_new_encoding+=[features_new_encoding_idx] * 1\n",
    "                      if timeframe_features_here:\n",
    "                        features_new_encoding_idx += 1\n",
    "                    else:\n",
    "                      for tag_lv3 in value[levels[3]] + [None]:\n",
    "                        # Create tag set for current level\n",
    "                        tags_set = [tag_lv0, tag_lv1, tag_lv2, tag_lv3]\n",
    "                        # Remove none\n",
    "                        tags_set = [x for x in tags_set if x is not None]\n",
    "                        # Search feature/s\n",
    "                        features_tag = list(tags.loc[(tags.loc[:,[x not in ['feature'] + tags_set for x in list(tags.columns)]].any(axis=1) == False) & tags[tags_set].all(axis=1), 'feature'])\n",
    "                        # If there are features with those 2 tags\n",
    "                        if len(features_tag) > 0:\n",
    "                          for feature in features_tag:\n",
    "                            # If the feature is not in the list already\n",
    "                            # (Ex. feature 1 added for tag6,tag7 and then would be added for tag6,tag7,None)\n",
    "                            if feature not in features_original:\n",
    "                              # Add feature names to the old list\n",
    "                              features_original+=[feature] * n_timeframes\n",
    "                              features_new_encoding+=[features_new_encoding_idx] * n_timeframes\n",
    "                              features_new_encoding_idx += 1\n",
    "\n",
    "                        # If there are 5 levels (tag 5 for group 7)\n",
    "                        if len(levels) == 5:\n",
    "                          # If the 4rd level is timeframe\n",
    "                          if levels[4] == 'timeframe':\n",
    "                            timeframe_features_here = False\n",
    "                            for tag_t in value[levels[4]]:\n",
    "                              # Create tag set for current level\n",
    "                              tags_set = [tag_lv0, tag_lv1, tag_lv2, tag_lv3, tag_t]\n",
    "                              # Remove none\n",
    "                              tags_set = [x for x in tags_set if x is not None]\n",
    "                              # Search feature/s\n",
    "                              features_tag = list(tags.loc[(tags.loc[:,[x not in ['feature'] + tags_set for x in list(tags.columns)]].any(axis=1) == False) & tags[tags_set].all(axis=1), 'feature'])\n",
    "                              # If there is a feature with those 5 tags\n",
    "                              if len(features_tag) > 0:\n",
    "                                timeframe_features_here = True\n",
    "                                # Add feature names to the old list\n",
    "                                features_original+=features_tag\n",
    "                                # Add new encodings to the encoding list\n",
    "                                features_new_encoding+=[features_new_encoding_idx] * 1\n",
    "                            if timeframe_features_here:\n",
    "                              features_new_encoding_idx += 1\n",
    "                          else:\n",
    "                            for tag_lv4 in value[levels[4]] + [None]:\n",
    "                              # Create tag set for current level\n",
    "                              tags_set = [tag_lv0, tag_lv1, tag_lv2, tag_lv3, tag_lv4]\n",
    "                              # Remove none\n",
    "                              tags_set = [x for x in tags_set if x is not None]\n",
    "                              # Search feature/s\n",
    "                              features_tag = list(tags.loc[(tags.loc[:,[x not in ['feature'] + tags_set for x in list(tags.columns)]].any(axis=1) == False) & tags[tags_set].all(axis=1), 'feature'])\n",
    "                              # If there are features with those 2 tags\n",
    "                              if len(features_tag) > 0:\n",
    "                                for feature in features_tag:\n",
    "                                  # If the feature is not in the list already\n",
    "                                  # (Ex. feature 1 added for tag6,tag7 and then would be added for tag6,tag7,None)\n",
    "                                  if feature not in features_original:\n",
    "                                    # Add feature names to the old list\n",
    "                                    features_original+=[feature] * n_timeframes\n",
    "                                    features_new_encoding+=[features_new_encoding_idx] * n_timeframes\n",
    "                                    features_new_encoding_idx += 1\n",
    "                                    \n",
    "\n",
    "feature_names_encodings = pd.DataFrame({'feature_original': features_original, 'feature_new_encoding': features_new_encoding})\n",
    "# Add feature 0, because it has no tags\n",
    "feature_names_encodings = feature_names_encodings.append(pd.DataFrame({'feature_original': ['feature_0'] * n_timeframes, 'feature_new_encoding': [max(feature_names_encodings.feature_new_encoding) + 1] * n_timeframes}), ignore_index=True)\n",
    "\n",
    "\n",
    "# Check that the new encoding makes sense\n",
    "\n",
    "print('Max number original features with same new feature: ' + str(max(feature_names_encodings.groupby('feature_new_encoding')['feature_original'].nunique())))\n",
    "\n",
    "print('Min number original features with same new feature: ' + str(min(feature_names_encodings.groupby('feature_new_encoding')['feature_original'].nunique())))\n",
    "\n",
    "print('Are there missing features in the encoding dataframe? ', 'yes' if len(list(set(feature_names_encodings.feature_original.tolist()).symmetric_difference(feature_names))) > 0 else 'no')\n",
    "\n",
    "# print('Nº of duplicates original features in dataframe: ' + str(sum(feature_names_encodings.feature_original.duplicated())))"
   ]
  },
  {
   "cell_type": "code",
   "execution_count": 13,
   "metadata": {
    "execution": {
     "iopub.execute_input": "2021-02-22T19:11:22.726506Z",
     "iopub.status.busy": "2021-02-22T19:11:22.725966Z",
     "iopub.status.idle": "2021-02-22T19:11:22.729785Z",
     "shell.execute_reply": "2021-02-22T19:11:22.729385Z"
    },
    "papermill": {
     "duration": 0.029358,
     "end_time": "2021-02-22T19:11:22.729893",
     "exception": false,
     "start_time": "2021-02-22T19:11:22.700535",
     "status": "completed"
    },
    "tags": []
   },
   "outputs": [],
   "source": [
    "# Get features with temporal dimension\n",
    "features_new_timeframe = feature_names_encodings.groupby('feature_new_encoding')['feature_original'].nunique()\n",
    "features_new_timeframe = features_new_timeframe[features_new_timeframe == 5]\n",
    "features_new_timeframe = features_new_timeframe.index.tolist() # Encodings of temporal features\n",
    "\n",
    "features_timeframe = feature_names_encodings.loc[feature_names_encodings.feature_new_encoding.isin(features_new_timeframe),'feature_original'].tolist()\n",
    "features_timeframe_idx = [feature_names.tolist().index(f) for f in features_timeframe] # Indexes from the subset of 'feature_X'\n",
    "\n",
    "# Get features without temporal dimension\n",
    "features_new_no_timeframe = [f for f in set(feature_names_encodings.feature_new_encoding) if f not in features_new_timeframe] # Encodings of non temporal features\n",
    "\n",
    "features_no_timeframe = feature_names_encodings.loc[feature_names_encodings.feature_new_encoding.isin(features_new_no_timeframe),'feature_original'].tolist()\n",
    "features_no_timeframe_idx = [feature_names.tolist().index(f) for f in features_no_timeframe] # Indexes from the subset of 'feature_X'"
   ]
  },
  {
   "cell_type": "markdown",
   "metadata": {
    "papermill": {
     "duration": 0.016634,
     "end_time": "2021-02-22T19:11:22.763143",
     "exception": false,
     "start_time": "2021-02-22T19:11:22.746509",
     "status": "completed"
    },
    "tags": []
   },
   "source": [
    "## Model"
   ]
  },
  {
   "cell_type": "code",
   "execution_count": 14,
   "metadata": {
    "execution": {
     "iopub.execute_input": "2021-02-22T19:11:22.804847Z",
     "iopub.status.busy": "2021-02-22T19:11:22.804160Z",
     "iopub.status.idle": "2021-02-22T19:11:22.807772Z",
     "shell.execute_reply": "2021-02-22T19:11:22.807351Z"
    },
    "papermill": {
     "duration": 0.027516,
     "end_time": "2021-02-22T19:11:22.807888",
     "exception": false,
     "start_time": "2021-02-22T19:11:22.780372",
     "status": "completed"
    },
    "tags": []
   },
   "outputs": [],
   "source": [
    "class ReshapeTimeframeFeatures(tf.keras.layers.Layer):\n",
    "  \"\"\"\n",
    "  Layer aimed to reshape the input tensor to a tensor with a timeframe axis\n",
    "  \"\"\"\n",
    "  def __init__(self, features_timeframe_idx, n_timeframes, name):\n",
    "    super(ReshapeTimeframeFeatures, self).__init__()\n",
    "    self.features_timeframe_idx = features_timeframe_idx\n",
    "    self.n_timeframes = n_timeframes\n",
    "\n",
    "  def build(self, input_shape):\n",
    "    self.new_shape = [input_shape[0], int(len(self.features_timeframe_idx)/self.n_timeframes), self.n_timeframes]\n",
    "\n",
    "  def call(self, input):\n",
    "    # Reshape input tensor to add a timeframe dimension\n",
    "    reshaped_tensor = tf.reshape(\n",
    "        tensor=tf.gather(params=input, indices=self.features_timeframe_idx,axis=1),\n",
    "        shape=[tf.shape(input)[0], int(len(self.features_timeframe_idx)/self.n_timeframes), self.n_timeframes]\n",
    "    )\n",
    "    # Transpose tensor to have the following axis order (batch, timeframe, feature)\n",
    "    tensor_axis_swap = tf.transpose(reshaped_tensor, perm=[0,2,1], name=self.name)\n",
    "    return tensor_axis_swap"
   ]
  },
  {
   "cell_type": "code",
   "execution_count": 15,
   "metadata": {
    "execution": {
     "iopub.execute_input": "2021-02-22T19:11:22.855525Z",
     "iopub.status.busy": "2021-02-22T19:11:22.854853Z",
     "iopub.status.idle": "2021-02-22T19:11:25.185886Z",
     "shell.execute_reply": "2021-02-22T19:11:25.185022Z"
    },
    "papermill": {
     "duration": 2.361431,
     "end_time": "2021-02-22T19:11:25.186107",
     "exception": false,
     "start_time": "2021-02-22T19:11:22.824676",
     "status": "completed"
    },
    "tags": []
   },
   "outputs": [
    {
     "name": "stdout",
     "output_type": "stream",
     "text": [
      "Model: \"jane\"\n",
      "__________________________________________________________________________________________________\n",
      "Layer (type)                    Output Shape         Param #     Connected to                     \n",
      "==================================================================================================\n",
      "inputs (InputLayer)             [(None, 130)]        0                                            \n",
      "__________________________________________________________________________________________________\n",
      "reshape_timeframe_features (Res (None, 5, 17)        0           inputs[0][0]                     \n",
      "__________________________________________________________________________________________________\n",
      "bn_timeframe (BatchNormalizatio (None, 5, 17)        340         reshape_timeframe_features[0][0] \n",
      "__________________________________________________________________________________________________\n",
      "tf.compat.v1.transpose (TFOpLam (None, 17, 5)        0           bn_timeframe[0][0]               \n",
      "__________________________________________________________________________________________________\n",
      "tf.compat.v1.gather (TFOpLambda (None, 45)           0           inputs[0][0]                     \n",
      "__________________________________________________________________________________________________\n",
      "tf.expand_dims (TFOpLambda)     (None, 17, 5, 1)     0           tf.compat.v1.transpose[0][0]     \n",
      "__________________________________________________________________________________________________\n",
      "bn_no_timeframe (BatchNormaliza (None, 45)           180         tf.compat.v1.gather[0][0]        \n",
      "__________________________________________________________________________________________________\n",
      "time_distributed (TimeDistribut (None, 17, 1)        12          tf.expand_dims[0][0]             \n",
      "__________________________________________________________________________________________________\n",
      "dropout (Dropout)               (None, 45)           0           bn_no_timeframe[0][0]            \n",
      "__________________________________________________________________________________________________\n",
      "tf.compat.v1.squeeze (TFOpLambd (None, 17)           0           time_distributed[0][0]           \n",
      "__________________________________________________________________________________________________\n",
      "tf.concat (TFOpLambda)          (None, 62)           0           dropout[0][0]                    \n",
      "                                                                 tf.compat.v1.squeeze[0][0]       \n",
      "__________________________________________________________________________________________________\n",
      "dense (Dense)                   (None, 160)          10080       tf.concat[0][0]                  \n",
      "__________________________________________________________________________________________________\n",
      "batch_normalization (BatchNorma (None, 160)          640         dense[0][0]                      \n",
      "__________________________________________________________________________________________________\n",
      "tf.nn.silu (TFOpLambda)         (None, 160)          0           batch_normalization[0][0]        \n",
      "__________________________________________________________________________________________________\n",
      "dropout_1 (Dropout)             (None, 160)          0           tf.nn.silu[0][0]                 \n",
      "__________________________________________________________________________________________________\n",
      "dense_1 (Dense)                 (None, 160)          25760       dropout_1[0][0]                  \n",
      "__________________________________________________________________________________________________\n",
      "batch_normalization_1 (BatchNor (None, 160)          640         dense_1[0][0]                    \n",
      "__________________________________________________________________________________________________\n",
      "tf.nn.silu_1 (TFOpLambda)       (None, 160)          0           batch_normalization_1[0][0]      \n",
      "__________________________________________________________________________________________________\n",
      "add (Add)                       (None, 160)          0           dropout_1[0][0]                  \n",
      "                                                                 tf.nn.silu_1[0][0]               \n",
      "__________________________________________________________________________________________________\n",
      "dropout_2 (Dropout)             (None, 160)          0           add[0][0]                        \n",
      "__________________________________________________________________________________________________\n",
      "dense_2 (Dense)                 (None, 160)          25760       dropout_2[0][0]                  \n",
      "__________________________________________________________________________________________________\n",
      "batch_normalization_2 (BatchNor (None, 160)          640         dense_2[0][0]                    \n",
      "__________________________________________________________________________________________________\n",
      "tf.nn.silu_2 (TFOpLambda)       (None, 160)          0           batch_normalization_2[0][0]      \n",
      "__________________________________________________________________________________________________\n",
      "dropout_3 (Dropout)             (None, 160)          0           tf.nn.silu_2[0][0]               \n",
      "__________________________________________________________________________________________________\n",
      "dense_3 (Dense)                 (None, 5)            805         dropout_3[0][0]                  \n",
      "==================================================================================================\n",
      "Total params: 64,857\n",
      "Trainable params: 63,637\n",
      "Non-trainable params: 1,220\n",
      "__________________________________________________________________________________________________\n"
     ]
    }
   ],
   "source": [
    "batch_size = 1000\n",
    "n_features_original = len(feature_names)\n",
    "input_shape = (batch_size, n_features_original)\n",
    "n_timeframes = 5\n",
    "label_smoothing = 1e-2\n",
    "\n",
    "\n",
    "inputs = tf.keras.Input(\n",
    "    shape=input_shape[-1],\n",
    "    dtype='float32',\n",
    "    name='inputs'\n",
    ")\n",
    "\n",
    "\n",
    "inputs_no_timeframe = tf.gather(params=inputs, indices=features_no_timeframe_idx,axis=1, name='inputs_no_timeframe')\n",
    "bn_no_timeframe = tf.keras.layers.BatchNormalization(axis=1, name='bn_no_timeframe')(inputs_no_timeframe)\n",
    "dropout_inputs = tf.keras.layers.Dropout(0.1)(bn_no_timeframe)\n",
    "\n",
    "reshape_tf = ReshapeTimeframeFeatures(features_timeframe_idx, n_timeframes, name='reshape_timeframe_feature')(inputs)\n",
    "bn_timeframe = tf.keras.layers.BatchNormalization(axis=[1,2], name='bn_timeframe')(reshape_tf)\n",
    "bn_timeframe = tf.transpose(bn_timeframe, [0,2,1])\n",
    "bn_timeframe = tf.expand_dims(bn_timeframe, axis = 3)\n",
    "\n",
    "\n",
    "lstm = tf.keras.layers.LSTM(1)\n",
    "\n",
    "time_dist = tf.keras.layers.TimeDistributed(lstm)(bn_timeframe)\n",
    "squeeze_time_dist = tf.squeeze(time_dist, axis=2)\n",
    "\n",
    "concat_features = tf.concat(values=[dropout_inputs, squeeze_time_dist], axis=1, name='concat_features')\n",
    "\n",
    "\n",
    "dense = tf.keras.layers.Dense(units=160, activation='linear', activity_regularizer=keras.regularizers.l2(1e-5))(concat_features)\n",
    "bn = tf.keras.layers.BatchNormalization(axis=1)(dense)\n",
    "activ = tf.keras.activations.swish(bn)\n",
    "\n",
    "\n",
    "dp = tf.keras.layers.Dropout(0.1)(activ)\n",
    "\n",
    "\n",
    "dense = tf.keras.layers.Dense(units=160, activation='linear', activity_regularizer=keras.regularizers.l2(1e-5))(dp)\n",
    "bn = tf.keras.layers.BatchNormalization(axis=1)(dense)\n",
    "activ = tf.keras.activations.swish(bn)\n",
    "\n",
    "\n",
    "res_add = tf.keras.layers.add([dp, activ])\n",
    "\n",
    "dp = tf.keras.layers.Dropout(0.1)(res_add)\n",
    "\n",
    "\n",
    "dense = tf.keras.layers.Dense(units=160, activation='linear', activity_regularizer=keras.regularizers.l2(1e-5))(dp)\n",
    "bn = tf.keras.layers.BatchNormalization(axis=1)(dense)\n",
    "activ = tf.keras.activations.swish(bn)\n",
    "dp = tf.keras.layers.Dropout(0.1)(activ)\n",
    "\n",
    "\n",
    "\n",
    "outputs = tf.keras.layers.Dense(units=5, activation='sigmoid')(dp)\n",
    "\n",
    "\n",
    "model = keras.Model(inputs=inputs, outputs=outputs, name=\"jane\")\n",
    "\n",
    "model.summary()"
   ]
  },
  {
   "cell_type": "code",
   "execution_count": 16,
   "metadata": {
    "execution": {
     "iopub.execute_input": "2021-02-22T19:11:25.271104Z",
     "iopub.status.busy": "2021-02-22T19:11:25.270379Z",
     "iopub.status.idle": "2021-02-22T19:20:20.397573Z",
     "shell.execute_reply": "2021-02-22T19:20:20.396661Z"
    },
    "papermill": {
     "duration": 535.180105,
     "end_time": "2021-02-22T19:20:20.397718",
     "exception": false,
     "start_time": "2021-02-22T19:11:25.217613",
     "status": "completed"
    },
    "tags": []
   },
   "outputs": [
    {
     "name": "stdout",
     "output_type": "stream",
     "text": [
      "Epoch 1/200\n",
      "1046/1046 [==============================] - 29s 21ms/step - loss: 0.7506 - auc: 0.5040 - val_loss: 0.6959 - val_auc: 0.5268\n",
      "Epoch 2/200\n",
      "1046/1046 [==============================] - 19s 19ms/step - loss: 0.7076 - auc: 0.5150 - val_loss: 0.6942 - val_auc: 0.5331\n",
      "Epoch 3/200\n",
      "1046/1046 [==============================] - 20s 19ms/step - loss: 0.7013 - auc: 0.5210 - val_loss: 0.6935 - val_auc: 0.5365\n",
      "Epoch 4/200\n",
      "1046/1046 [==============================] - 20s 19ms/step - loss: 0.6984 - auc: 0.5253 - val_loss: 0.6930 - val_auc: 0.5381\n",
      "Epoch 5/200\n",
      "1046/1046 [==============================] - 20s 19ms/step - loss: 0.6966 - auc: 0.5283 - val_loss: 0.6925 - val_auc: 0.5391\n",
      "Epoch 6/200\n",
      "1046/1046 [==============================] - 20s 19ms/step - loss: 0.6953 - auc: 0.5316 - val_loss: 0.6922 - val_auc: 0.5403\n",
      "Epoch 7/200\n",
      "1046/1046 [==============================] - 20s 19ms/step - loss: 0.6943 - auc: 0.5343 - val_loss: 0.6920 - val_auc: 0.5402\n",
      "Epoch 8/200\n",
      "1046/1046 [==============================] - 20s 19ms/step - loss: 0.6934 - auc: 0.5375 - val_loss: 0.6918 - val_auc: 0.5406\n",
      "Epoch 9/200\n",
      "1046/1046 [==============================] - 20s 19ms/step - loss: 0.6931 - auc: 0.5369 - val_loss: 0.6916 - val_auc: 0.5407\n",
      "Epoch 10/200\n",
      "1046/1046 [==============================] - 20s 19ms/step - loss: 0.6927 - auc: 0.5381 - val_loss: 0.6914 - val_auc: 0.5417\n",
      "Epoch 11/200\n",
      "1046/1046 [==============================] - 20s 19ms/step - loss: 0.6922 - auc: 0.5404 - val_loss: 0.6913 - val_auc: 0.5418\n",
      "Epoch 12/200\n",
      "1046/1046 [==============================] - 20s 19ms/step - loss: 0.6920 - auc: 0.5409 - val_loss: 0.6912 - val_auc: 0.5422\n",
      "Epoch 13/200\n",
      "1046/1046 [==============================] - 20s 19ms/step - loss: 0.6915 - auc: 0.5422 - val_loss: 0.6912 - val_auc: 0.5421\n",
      "Epoch 14/200\n",
      "1046/1046 [==============================] - 20s 19ms/step - loss: 0.6913 - auc: 0.5434 - val_loss: 0.6911 - val_auc: 0.5426\n",
      "Epoch 15/200\n",
      "1046/1046 [==============================] - 20s 19ms/step - loss: 0.6909 - auc: 0.5450 - val_loss: 0.6910 - val_auc: 0.5423\n",
      "Epoch 16/200\n",
      "1046/1046 [==============================] - 20s 20ms/step - loss: 0.6907 - auc: 0.5455 - val_loss: 0.6909 - val_auc: 0.5437\n",
      "Epoch 17/200\n",
      "1046/1046 [==============================] - 21s 20ms/step - loss: 0.6904 - auc: 0.5465 - val_loss: 0.6909 - val_auc: 0.5432\n",
      "Epoch 18/200\n",
      "1046/1046 [==============================] - 20s 19ms/step - loss: 0.6902 - auc: 0.5474 - val_loss: 0.6909 - val_auc: 0.5427\n",
      "Epoch 19/200\n",
      "1046/1046 [==============================] - 20s 20ms/step - loss: 0.6901 - auc: 0.5475 - val_loss: 0.6909 - val_auc: 0.5432\n",
      "Epoch 20/200\n",
      "1046/1046 [==============================] - 20s 19ms/step - loss: 0.6898 - auc: 0.5488 - val_loss: 0.6908 - val_auc: 0.5437\n",
      "Epoch 21/200\n",
      "1046/1046 [==============================] - 20s 19ms/step - loss: 0.6896 - auc: 0.5496 - val_loss: 0.6907 - val_auc: 0.5439\n",
      "Epoch 22/200\n",
      "1046/1046 [==============================] - 21s 20ms/step - loss: 0.6895 - auc: 0.5494 - val_loss: 0.6907 - val_auc: 0.5443\n",
      "Epoch 23/200\n",
      "1046/1046 [==============================] - 20s 19ms/step - loss: 0.6893 - auc: 0.5505 - val_loss: 0.6908 - val_auc: 0.5429\n",
      "Epoch 24/200\n",
      "1046/1046 [==============================] - 20s 20ms/step - loss: 0.6891 - auc: 0.5513 - val_loss: 0.6909 - val_auc: 0.5438\n",
      "Epoch 25/200\n",
      "1046/1046 [==============================] - 20s 19ms/step - loss: 0.6889 - auc: 0.5522 - val_loss: 0.6907 - val_auc: 0.5447\n",
      "Epoch 26/200\n",
      "1046/1046 [==============================] - 20s 19ms/step - loss: 0.6888 - auc: 0.5526 - val_loss: 0.6907 - val_auc: 0.5443\n"
     ]
    }
   ],
   "source": [
    "MAX_EPOCHS = 200\n",
    "\n",
    "opt = tfa.optimizers.RectifiedAdam(\n",
    "    lr=1e-4\n",
    ")\n",
    "\n",
    "model.compile(\n",
    "    loss=tf.keras.losses.BinaryCrossentropy(label_smoothing=label_smoothing),\n",
    "    optimizer=opt,\n",
    "    metrics=[\"AUC\"]\n",
    ")\n",
    "\n",
    "callbacks = tf.keras.callbacks.EarlyStopping(monitor='val_loss', mode='min', patience=5)\n",
    "\n",
    "history = model.fit(\n",
    "    x=X_train.loc[:, feature_names],\n",
    "    y=y_train,\n",
    "    batch_size=batch_size,\n",
    "    epochs=MAX_EPOCHS,\n",
    "    validation_data=(X_val.loc[:, feature_names], y_val),\n",
    "    shuffle=True,\n",
    "    callbacks=callbacks\n",
    ")"
   ]
  },
  {
   "cell_type": "code",
   "execution_count": 17,
   "metadata": {
    "execution": {
     "iopub.execute_input": "2021-02-22T19:20:25.112890Z",
     "iopub.status.busy": "2021-02-22T19:20:25.112007Z",
     "iopub.status.idle": "2021-02-22T19:20:25.363306Z",
     "shell.execute_reply": "2021-02-22T19:20:25.363716Z"
    },
    "papermill": {
     "duration": 2.505615,
     "end_time": "2021-02-22T19:20:25.363860",
     "exception": false,
     "start_time": "2021-02-22T19:20:22.858245",
     "status": "completed"
    },
    "tags": []
   },
   "outputs": [
    {
     "data": {
      "image/png": "[encoded data removed]",
      "text/plain": [
       "<Figure size 864x720 with 2 Axes>"
      ]
     },
     "metadata": {
      "needs_background": "light"
     },
     "output_type": "display_data"
    }
   ],
   "source": [
    "mpl.rcParams['figure.figsize'] = (12, 10)\n",
    "colors = plt.rcParams['axes.prop_cycle'].by_key()['color']\n",
    "\n",
    "def plot_metrics(history):\n",
    "  metrics = ['loss', 'auc']\n",
    "  for n, metric in enumerate(metrics):\n",
    "    name = metric.replace(\"_\",\" \").capitalize()\n",
    "    plt.subplot(2,2,n+1)\n",
    "    plt.plot(history.epoch, history.history[metric], color=colors[0], label='Train')\n",
    "    plt.plot(history.epoch, history.history['val_'+metric],\n",
    "             color=colors[0], linestyle=\"--\", label='Val')\n",
    "    plt.xlabel('Epoch')\n",
    "    plt.ylabel(name)\n",
    "\n",
    "    plt.legend()\n",
    "    \n",
    "plot_metrics(history)"
   ]
  },
  {
   "cell_type": "code",
   "execution_count": 18,
   "metadata": {
    "execution": {
     "iopub.execute_input": "2021-02-22T19:20:29.582440Z",
     "iopub.status.busy": "2021-02-22T19:20:29.581606Z",
     "iopub.status.idle": "2021-02-22T19:20:29.643319Z",
     "shell.execute_reply": "2021-02-22T19:20:29.643744Z"
    },
    "papermill": {
     "duration": 2.222096,
     "end_time": "2021-02-22T19:20:29.643895",
     "exception": false,
     "start_time": "2021-02-22T19:20:27.421799",
     "status": "completed"
    },
    "tags": []
   },
   "outputs": [
    {
     "data": {
      "text/plain": [
       "7256"
      ]
     },
     "execution_count": 18,
     "metadata": {},
     "output_type": "execute_result"
    }
   ],
   "source": [
    "gc.collect()"
   ]
  },
  {
   "cell_type": "code",
   "execution_count": 19,
   "metadata": {
    "execution": {
     "iopub.execute_input": "2021-02-22T19:20:33.830122Z",
     "iopub.status.busy": "2021-02-22T19:20:33.828859Z",
     "iopub.status.idle": "2021-02-22T19:20:58.941598Z",
     "shell.execute_reply": "2021-02-22T19:20:58.942156Z"
    },
    "papermill": {
     "duration": 27.307805,
     "end_time": "2021-02-22T19:20:58.942384",
     "exception": false,
     "start_time": "2021-02-22T19:20:31.634579",
     "status": "completed"
    },
    "tags": []
   },
   "outputs": [
    {
     "name": "stderr",
     "output_type": "stream",
     "text": [
      "/opt/conda/lib/python3.7/site-packages/ipykernel_launcher.py:3: SettingWithCopyWarning: \n",
      "A value is trying to be set on a copy of a slice from a DataFrame.\n",
      "Try using .loc[row_indexer,col_indexer] = value instead\n",
      "\n",
      "See the caveats in the documentation: https://pandas.pydata.org/pandas-docs/stable/user_guide/indexing.html#returning-a-view-versus-a-copy\n",
      "  This is separate from the ipykernel package so we can avoid doing imports until\n",
      "/opt/conda/lib/python3.7/site-packages/ipykernel_launcher.py:6: SettingWithCopyWarning: \n",
      "A value is trying to be set on a copy of a slice from a DataFrame.\n",
      "Try using .loc[row_indexer,col_indexer] = value instead\n",
      "\n",
      "See the caveats in the documentation: https://pandas.pydata.org/pandas-docs/stable/user_guide/indexing.html#returning-a-view-versus-a-copy\n",
      "  \n",
      "/opt/conda/lib/python3.7/site-packages/pandas/core/indexing.py:1763: SettingWithCopyWarning: \n",
      "A value is trying to be set on a copy of a slice from a DataFrame.\n",
      "Try using .loc[row_indexer,col_indexer] = value instead\n",
      "\n",
      "See the caveats in the documentation: https://pandas.pydata.org/pandas-docs/stable/user_guide/indexing.html#returning-a-view-versus-a-copy\n",
      "  isetter(loc, value)\n"
     ]
    },
    {
     "name": "stdout",
     "output_type": "stream",
     "text": [
      "0.45 - -0.0\n"
     ]
    },
    {
     "name": "stderr",
     "output_type": "stream",
     "text": [
      "/opt/conda/lib/python3.7/site-packages/ipykernel_launcher.py:6: SettingWithCopyWarning: \n",
      "A value is trying to be set on a copy of a slice from a DataFrame.\n",
      "Try using .loc[row_indexer,col_indexer] = value instead\n",
      "\n",
      "See the caveats in the documentation: https://pandas.pydata.org/pandas-docs/stable/user_guide/indexing.html#returning-a-view-versus-a-copy\n",
      "  \n",
      "/opt/conda/lib/python3.7/site-packages/pandas/core/indexing.py:1763: SettingWithCopyWarning: \n",
      "A value is trying to be set on a copy of a slice from a DataFrame.\n",
      "Try using .loc[row_indexer,col_indexer] = value instead\n",
      "\n",
      "See the caveats in the documentation: https://pandas.pydata.org/pandas-docs/stable/user_guide/indexing.html#returning-a-view-versus-a-copy\n",
      "  isetter(loc, value)\n"
     ]
    },
    {
     "name": "stdout",
     "output_type": "stream",
     "text": [
      "0.452 - 0.4229421612906552\n"
     ]
    },
    {
     "name": "stderr",
     "output_type": "stream",
     "text": [
      "/opt/conda/lib/python3.7/site-packages/ipykernel_launcher.py:6: SettingWithCopyWarning: \n",
      "A value is trying to be set on a copy of a slice from a DataFrame.\n",
      "Try using .loc[row_indexer,col_indexer] = value instead\n",
      "\n",
      "See the caveats in the documentation: https://pandas.pydata.org/pandas-docs/stable/user_guide/indexing.html#returning-a-view-versus-a-copy\n",
      "  \n",
      "/opt/conda/lib/python3.7/site-packages/pandas/core/indexing.py:1763: SettingWithCopyWarning: \n",
      "A value is trying to be set on a copy of a slice from a DataFrame.\n",
      "Try using .loc[row_indexer,col_indexer] = value instead\n",
      "\n",
      "See the caveats in the documentation: https://pandas.pydata.org/pandas-docs/stable/user_guide/indexing.html#returning-a-view-versus-a-copy\n",
      "  isetter(loc, value)\n"
     ]
    },
    {
     "name": "stdout",
     "output_type": "stream",
     "text": [
      "0.454 - 6.101021950983901\n"
     ]
    },
    {
     "name": "stderr",
     "output_type": "stream",
     "text": [
      "/opt/conda/lib/python3.7/site-packages/ipykernel_launcher.py:6: SettingWithCopyWarning: \n",
      "A value is trying to be set on a copy of a slice from a DataFrame.\n",
      "Try using .loc[row_indexer,col_indexer] = value instead\n",
      "\n",
      "See the caveats in the documentation: https://pandas.pydata.org/pandas-docs/stable/user_guide/indexing.html#returning-a-view-versus-a-copy\n",
      "  \n",
      "/opt/conda/lib/python3.7/site-packages/pandas/core/indexing.py:1763: SettingWithCopyWarning: \n",
      "A value is trying to be set on a copy of a slice from a DataFrame.\n",
      "Try using .loc[row_indexer,col_indexer] = value instead\n",
      "\n",
      "See the caveats in the documentation: https://pandas.pydata.org/pandas-docs/stable/user_guide/indexing.html#returning-a-view-versus-a-copy\n",
      "  isetter(loc, value)\n"
     ]
    },
    {
     "name": "stdout",
     "output_type": "stream",
     "text": [
      "0.456 - 18.798306406195493\n"
     ]
    },
    {
     "name": "stderr",
     "output_type": "stream",
     "text": [
      "/opt/conda/lib/python3.7/site-packages/ipykernel_launcher.py:6: SettingWithCopyWarning: \n",
      "A value is trying to be set on a copy of a slice from a DataFrame.\n",
      "Try using .loc[row_indexer,col_indexer] = value instead\n",
      "\n",
      "See the caveats in the documentation: https://pandas.pydata.org/pandas-docs/stable/user_guide/indexing.html#returning-a-view-versus-a-copy\n",
      "  \n",
      "/opt/conda/lib/python3.7/site-packages/pandas/core/indexing.py:1763: SettingWithCopyWarning: \n",
      "A value is trying to be set on a copy of a slice from a DataFrame.\n",
      "Try using .loc[row_indexer,col_indexer] = value instead\n",
      "\n",
      "See the caveats in the documentation: https://pandas.pydata.org/pandas-docs/stable/user_guide/indexing.html#returning-a-view-versus-a-copy\n",
      "  isetter(loc, value)\n"
     ]
    },
    {
     "name": "stdout",
     "output_type": "stream",
     "text": [
      "0.458 - 47.21134085512123\n"
     ]
    },
    {
     "name": "stderr",
     "output_type": "stream",
     "text": [
      "/opt/conda/lib/python3.7/site-packages/ipykernel_launcher.py:6: SettingWithCopyWarning: \n",
      "A value is trying to be set on a copy of a slice from a DataFrame.\n",
      "Try using .loc[row_indexer,col_indexer] = value instead\n",
      "\n",
      "See the caveats in the documentation: https://pandas.pydata.org/pandas-docs/stable/user_guide/indexing.html#returning-a-view-versus-a-copy\n",
      "  \n",
      "/opt/conda/lib/python3.7/site-packages/pandas/core/indexing.py:1763: SettingWithCopyWarning: \n",
      "A value is trying to be set on a copy of a slice from a DataFrame.\n",
      "Try using .loc[row_indexer,col_indexer] = value instead\n",
      "\n",
      "See the caveats in the documentation: https://pandas.pydata.org/pandas-docs/stable/user_guide/indexing.html#returning-a-view-versus-a-copy\n",
      "  isetter(loc, value)\n"
     ]
    },
    {
     "name": "stdout",
     "output_type": "stream",
     "text": [
      "0.46 - 44.96880093334763\n"
     ]
    },
    {
     "name": "stderr",
     "output_type": "stream",
     "text": [
      "/opt/conda/lib/python3.7/site-packages/ipykernel_launcher.py:6: SettingWithCopyWarning: \n",
      "A value is trying to be set on a copy of a slice from a DataFrame.\n",
      "Try using .loc[row_indexer,col_indexer] = value instead\n",
      "\n",
      "See the caveats in the documentation: https://pandas.pydata.org/pandas-docs/stable/user_guide/indexing.html#returning-a-view-versus-a-copy\n",
      "  \n",
      "/opt/conda/lib/python3.7/site-packages/pandas/core/indexing.py:1763: SettingWithCopyWarning: \n",
      "A value is trying to be set on a copy of a slice from a DataFrame.\n",
      "Try using .loc[row_indexer,col_indexer] = value instead\n",
      "\n",
      "See the caveats in the documentation: https://pandas.pydata.org/pandas-docs/stable/user_guide/indexing.html#returning-a-view-versus-a-copy\n",
      "  isetter(loc, value)\n"
     ]
    },
    {
     "name": "stdout",
     "output_type": "stream",
     "text": [
      "0.462 - 92.28821658245738\n"
     ]
    },
    {
     "name": "stderr",
     "output_type": "stream",
     "text": [
      "/opt/conda/lib/python3.7/site-packages/ipykernel_launcher.py:6: SettingWithCopyWarning: \n",
      "A value is trying to be set on a copy of a slice from a DataFrame.\n",
      "Try using .loc[row_indexer,col_indexer] = value instead\n",
      "\n",
      "See the caveats in the documentation: https://pandas.pydata.org/pandas-docs/stable/user_guide/indexing.html#returning-a-view-versus-a-copy\n",
      "  \n",
      "/opt/conda/lib/python3.7/site-packages/pandas/core/indexing.py:1763: SettingWithCopyWarning: \n",
      "A value is trying to be set on a copy of a slice from a DataFrame.\n",
      "Try using .loc[row_indexer,col_indexer] = value instead\n",
      "\n",
      "See the caveats in the documentation: https://pandas.pydata.org/pandas-docs/stable/user_guide/indexing.html#returning-a-view-versus-a-copy\n",
      "  isetter(loc, value)\n"
     ]
    },
    {
     "name": "stdout",
     "output_type": "stream",
     "text": [
      "0.464 - 143.6413469922843\n"
     ]
    },
    {
     "name": "stderr",
     "output_type": "stream",
     "text": [
      "/opt/conda/lib/python3.7/site-packages/ipykernel_launcher.py:6: SettingWithCopyWarning: \n",
      "A value is trying to be set on a copy of a slice from a DataFrame.\n",
      "Try using .loc[row_indexer,col_indexer] = value instead\n",
      "\n",
      "See the caveats in the documentation: https://pandas.pydata.org/pandas-docs/stable/user_guide/indexing.html#returning-a-view-versus-a-copy\n",
      "  \n",
      "/opt/conda/lib/python3.7/site-packages/pandas/core/indexing.py:1763: SettingWithCopyWarning: \n",
      "A value is trying to be set on a copy of a slice from a DataFrame.\n",
      "Try using .loc[row_indexer,col_indexer] = value instead\n",
      "\n",
      "See the caveats in the documentation: https://pandas.pydata.org/pandas-docs/stable/user_guide/indexing.html#returning-a-view-versus-a-copy\n",
      "  isetter(loc, value)\n"
     ]
    },
    {
     "name": "stdout",
     "output_type": "stream",
     "text": [
      "0.466 - 199.6032420316118\n"
     ]
    },
    {
     "name": "stderr",
     "output_type": "stream",
     "text": [
      "/opt/conda/lib/python3.7/site-packages/ipykernel_launcher.py:6: SettingWithCopyWarning: \n",
      "A value is trying to be set on a copy of a slice from a DataFrame.\n",
      "Try using .loc[row_indexer,col_indexer] = value instead\n",
      "\n",
      "See the caveats in the documentation: https://pandas.pydata.org/pandas-docs/stable/user_guide/indexing.html#returning-a-view-versus-a-copy\n",
      "  \n",
      "/opt/conda/lib/python3.7/site-packages/pandas/core/indexing.py:1763: SettingWithCopyWarning: \n",
      "A value is trying to be set on a copy of a slice from a DataFrame.\n",
      "Try using .loc[row_indexer,col_indexer] = value instead\n",
      "\n",
      "See the caveats in the documentation: https://pandas.pydata.org/pandas-docs/stable/user_guide/indexing.html#returning-a-view-versus-a-copy\n",
      "  isetter(loc, value)\n"
     ]
    },
    {
     "name": "stdout",
     "output_type": "stream",
     "text": [
      "0.468 - 239.13915424719136\n"
     ]
    },
    {
     "name": "stderr",
     "output_type": "stream",
     "text": [
      "/opt/conda/lib/python3.7/site-packages/ipykernel_launcher.py:6: SettingWithCopyWarning: \n",
      "A value is trying to be set on a copy of a slice from a DataFrame.\n",
      "Try using .loc[row_indexer,col_indexer] = value instead\n",
      "\n",
      "See the caveats in the documentation: https://pandas.pydata.org/pandas-docs/stable/user_guide/indexing.html#returning-a-view-versus-a-copy\n",
      "  \n",
      "/opt/conda/lib/python3.7/site-packages/pandas/core/indexing.py:1763: SettingWithCopyWarning: \n",
      "A value is trying to be set on a copy of a slice from a DataFrame.\n",
      "Try using .loc[row_indexer,col_indexer] = value instead\n",
      "\n",
      "See the caveats in the documentation: https://pandas.pydata.org/pandas-docs/stable/user_guide/indexing.html#returning-a-view-versus-a-copy\n",
      "  isetter(loc, value)\n"
     ]
    },
    {
     "name": "stdout",
     "output_type": "stream",
     "text": [
      "0.47 - 330.9483868832302\n"
     ]
    },
    {
     "name": "stderr",
     "output_type": "stream",
     "text": [
      "/opt/conda/lib/python3.7/site-packages/ipykernel_launcher.py:6: SettingWithCopyWarning: \n",
      "A value is trying to be set on a copy of a slice from a DataFrame.\n",
      "Try using .loc[row_indexer,col_indexer] = value instead\n",
      "\n",
      "See the caveats in the documentation: https://pandas.pydata.org/pandas-docs/stable/user_guide/indexing.html#returning-a-view-versus-a-copy\n",
      "  \n",
      "/opt/conda/lib/python3.7/site-packages/pandas/core/indexing.py:1763: SettingWithCopyWarning: \n",
      "A value is trying to be set on a copy of a slice from a DataFrame.\n",
      "Try using .loc[row_indexer,col_indexer] = value instead\n",
      "\n",
      "See the caveats in the documentation: https://pandas.pydata.org/pandas-docs/stable/user_guide/indexing.html#returning-a-view-versus-a-copy\n",
      "  isetter(loc, value)\n"
     ]
    },
    {
     "name": "stdout",
     "output_type": "stream",
     "text": [
      "0.472 - 426.5076095531944\n"
     ]
    },
    {
     "name": "stderr",
     "output_type": "stream",
     "text": [
      "/opt/conda/lib/python3.7/site-packages/ipykernel_launcher.py:6: SettingWithCopyWarning: \n",
      "A value is trying to be set on a copy of a slice from a DataFrame.\n",
      "Try using .loc[row_indexer,col_indexer] = value instead\n",
      "\n",
      "See the caveats in the documentation: https://pandas.pydata.org/pandas-docs/stable/user_guide/indexing.html#returning-a-view-versus-a-copy\n",
      "  \n",
      "/opt/conda/lib/python3.7/site-packages/pandas/core/indexing.py:1763: SettingWithCopyWarning: \n",
      "A value is trying to be set on a copy of a slice from a DataFrame.\n",
      "Try using .loc[row_indexer,col_indexer] = value instead\n",
      "\n",
      "See the caveats in the documentation: https://pandas.pydata.org/pandas-docs/stable/user_guide/indexing.html#returning-a-view-versus-a-copy\n",
      "  isetter(loc, value)\n"
     ]
    },
    {
     "name": "stdout",
     "output_type": "stream",
     "text": [
      "0.474 - 555.9761514141034\n"
     ]
    },
    {
     "name": "stderr",
     "output_type": "stream",
     "text": [
      "/opt/conda/lib/python3.7/site-packages/ipykernel_launcher.py:6: SettingWithCopyWarning: \n",
      "A value is trying to be set on a copy of a slice from a DataFrame.\n",
      "Try using .loc[row_indexer,col_indexer] = value instead\n",
      "\n",
      "See the caveats in the documentation: https://pandas.pydata.org/pandas-docs/stable/user_guide/indexing.html#returning-a-view-versus-a-copy\n",
      "  \n",
      "/opt/conda/lib/python3.7/site-packages/pandas/core/indexing.py:1763: SettingWithCopyWarning: \n",
      "A value is trying to be set on a copy of a slice from a DataFrame.\n",
      "Try using .loc[row_indexer,col_indexer] = value instead\n",
      "\n",
      "See the caveats in the documentation: https://pandas.pydata.org/pandas-docs/stable/user_guide/indexing.html#returning-a-view-versus-a-copy\n",
      "  isetter(loc, value)\n"
     ]
    },
    {
     "name": "stdout",
     "output_type": "stream",
     "text": [
      "0.476 - 753.2321512871002\n"
     ]
    },
    {
     "name": "stderr",
     "output_type": "stream",
     "text": [
      "/opt/conda/lib/python3.7/site-packages/ipykernel_launcher.py:6: SettingWithCopyWarning: \n",
      "A value is trying to be set on a copy of a slice from a DataFrame.\n",
      "Try using .loc[row_indexer,col_indexer] = value instead\n",
      "\n",
      "See the caveats in the documentation: https://pandas.pydata.org/pandas-docs/stable/user_guide/indexing.html#returning-a-view-versus-a-copy\n",
      "  \n",
      "/opt/conda/lib/python3.7/site-packages/pandas/core/indexing.py:1763: SettingWithCopyWarning: \n",
      "A value is trying to be set on a copy of a slice from a DataFrame.\n",
      "Try using .loc[row_indexer,col_indexer] = value instead\n",
      "\n",
      "See the caveats in the documentation: https://pandas.pydata.org/pandas-docs/stable/user_guide/indexing.html#returning-a-view-versus-a-copy\n",
      "  isetter(loc, value)\n"
     ]
    },
    {
     "name": "stdout",
     "output_type": "stream",
     "text": [
      "0.478 - 892.5492176059224\n"
     ]
    },
    {
     "name": "stderr",
     "output_type": "stream",
     "text": [
      "/opt/conda/lib/python3.7/site-packages/ipykernel_launcher.py:6: SettingWithCopyWarning: \n",
      "A value is trying to be set on a copy of a slice from a DataFrame.\n",
      "Try using .loc[row_indexer,col_indexer] = value instead\n",
      "\n",
      "See the caveats in the documentation: https://pandas.pydata.org/pandas-docs/stable/user_guide/indexing.html#returning-a-view-versus-a-copy\n",
      "  \n",
      "/opt/conda/lib/python3.7/site-packages/pandas/core/indexing.py:1763: SettingWithCopyWarning: \n",
      "A value is trying to be set on a copy of a slice from a DataFrame.\n",
      "Try using .loc[row_indexer,col_indexer] = value instead\n",
      "\n",
      "See the caveats in the documentation: https://pandas.pydata.org/pandas-docs/stable/user_guide/indexing.html#returning-a-view-versus-a-copy\n",
      "  isetter(loc, value)\n"
     ]
    },
    {
     "name": "stdout",
     "output_type": "stream",
     "text": [
      "0.48 - 841.8318886383736\n"
     ]
    },
    {
     "name": "stderr",
     "output_type": "stream",
     "text": [
      "/opt/conda/lib/python3.7/site-packages/ipykernel_launcher.py:6: SettingWithCopyWarning: \n",
      "A value is trying to be set on a copy of a slice from a DataFrame.\n",
      "Try using .loc[row_indexer,col_indexer] = value instead\n",
      "\n",
      "See the caveats in the documentation: https://pandas.pydata.org/pandas-docs/stable/user_guide/indexing.html#returning-a-view-versus-a-copy\n",
      "  \n",
      "/opt/conda/lib/python3.7/site-packages/pandas/core/indexing.py:1763: SettingWithCopyWarning: \n",
      "A value is trying to be set on a copy of a slice from a DataFrame.\n",
      "Try using .loc[row_indexer,col_indexer] = value instead\n",
      "\n",
      "See the caveats in the documentation: https://pandas.pydata.org/pandas-docs/stable/user_guide/indexing.html#returning-a-view-versus-a-copy\n",
      "  isetter(loc, value)\n"
     ]
    },
    {
     "name": "stdout",
     "output_type": "stream",
     "text": [
      "0.482 - 1056.0912415330563\n"
     ]
    },
    {
     "name": "stderr",
     "output_type": "stream",
     "text": [
      "/opt/conda/lib/python3.7/site-packages/ipykernel_launcher.py:6: SettingWithCopyWarning: \n",
      "A value is trying to be set on a copy of a slice from a DataFrame.\n",
      "Try using .loc[row_indexer,col_indexer] = value instead\n",
      "\n",
      "See the caveats in the documentation: https://pandas.pydata.org/pandas-docs/stable/user_guide/indexing.html#returning-a-view-versus-a-copy\n",
      "  \n",
      "/opt/conda/lib/python3.7/site-packages/pandas/core/indexing.py:1763: SettingWithCopyWarning: \n",
      "A value is trying to be set on a copy of a slice from a DataFrame.\n",
      "Try using .loc[row_indexer,col_indexer] = value instead\n",
      "\n",
      "See the caveats in the documentation: https://pandas.pydata.org/pandas-docs/stable/user_guide/indexing.html#returning-a-view-versus-a-copy\n",
      "  isetter(loc, value)\n"
     ]
    },
    {
     "name": "stdout",
     "output_type": "stream",
     "text": [
      "0.484 - 1100.6606455770582\n"
     ]
    },
    {
     "name": "stderr",
     "output_type": "stream",
     "text": [
      "/opt/conda/lib/python3.7/site-packages/ipykernel_launcher.py:6: SettingWithCopyWarning: \n",
      "A value is trying to be set on a copy of a slice from a DataFrame.\n",
      "Try using .loc[row_indexer,col_indexer] = value instead\n",
      "\n",
      "See the caveats in the documentation: https://pandas.pydata.org/pandas-docs/stable/user_guide/indexing.html#returning-a-view-versus-a-copy\n",
      "  \n",
      "/opt/conda/lib/python3.7/site-packages/pandas/core/indexing.py:1763: SettingWithCopyWarning: \n",
      "A value is trying to be set on a copy of a slice from a DataFrame.\n",
      "Try using .loc[row_indexer,col_indexer] = value instead\n",
      "\n",
      "See the caveats in the documentation: https://pandas.pydata.org/pandas-docs/stable/user_guide/indexing.html#returning-a-view-versus-a-copy\n",
      "  isetter(loc, value)\n"
     ]
    },
    {
     "name": "stdout",
     "output_type": "stream",
     "text": [
      "0.486 - 1194.6302356923768\n"
     ]
    },
    {
     "name": "stderr",
     "output_type": "stream",
     "text": [
      "/opt/conda/lib/python3.7/site-packages/ipykernel_launcher.py:6: SettingWithCopyWarning: \n",
      "A value is trying to be set on a copy of a slice from a DataFrame.\n",
      "Try using .loc[row_indexer,col_indexer] = value instead\n",
      "\n",
      "See the caveats in the documentation: https://pandas.pydata.org/pandas-docs/stable/user_guide/indexing.html#returning-a-view-versus-a-copy\n",
      "  \n",
      "/opt/conda/lib/python3.7/site-packages/pandas/core/indexing.py:1763: SettingWithCopyWarning: \n",
      "A value is trying to be set on a copy of a slice from a DataFrame.\n",
      "Try using .loc[row_indexer,col_indexer] = value instead\n",
      "\n",
      "See the caveats in the documentation: https://pandas.pydata.org/pandas-docs/stable/user_guide/indexing.html#returning-a-view-versus-a-copy\n",
      "  isetter(loc, value)\n"
     ]
    },
    {
     "name": "stdout",
     "output_type": "stream",
     "text": [
      "0.488 - 1258.6818629090849\n"
     ]
    },
    {
     "name": "stderr",
     "output_type": "stream",
     "text": [
      "/opt/conda/lib/python3.7/site-packages/ipykernel_launcher.py:6: SettingWithCopyWarning: \n",
      "A value is trying to be set on a copy of a slice from a DataFrame.\n",
      "Try using .loc[row_indexer,col_indexer] = value instead\n",
      "\n",
      "See the caveats in the documentation: https://pandas.pydata.org/pandas-docs/stable/user_guide/indexing.html#returning-a-view-versus-a-copy\n",
      "  \n",
      "/opt/conda/lib/python3.7/site-packages/pandas/core/indexing.py:1763: SettingWithCopyWarning: \n",
      "A value is trying to be set on a copy of a slice from a DataFrame.\n",
      "Try using .loc[row_indexer,col_indexer] = value instead\n",
      "\n",
      "See the caveats in the documentation: https://pandas.pydata.org/pandas-docs/stable/user_guide/indexing.html#returning-a-view-versus-a-copy\n",
      "  isetter(loc, value)\n"
     ]
    },
    {
     "name": "stdout",
     "output_type": "stream",
     "text": [
      "0.49 - 1371.752915364532\n"
     ]
    },
    {
     "name": "stderr",
     "output_type": "stream",
     "text": [
      "/opt/conda/lib/python3.7/site-packages/ipykernel_launcher.py:6: SettingWithCopyWarning: \n",
      "A value is trying to be set on a copy of a slice from a DataFrame.\n",
      "Try using .loc[row_indexer,col_indexer] = value instead\n",
      "\n",
      "See the caveats in the documentation: https://pandas.pydata.org/pandas-docs/stable/user_guide/indexing.html#returning-a-view-versus-a-copy\n",
      "  \n",
      "/opt/conda/lib/python3.7/site-packages/pandas/core/indexing.py:1763: SettingWithCopyWarning: \n",
      "A value is trying to be set on a copy of a slice from a DataFrame.\n",
      "Try using .loc[row_indexer,col_indexer] = value instead\n",
      "\n",
      "See the caveats in the documentation: https://pandas.pydata.org/pandas-docs/stable/user_guide/indexing.html#returning-a-view-versus-a-copy\n",
      "  isetter(loc, value)\n"
     ]
    },
    {
     "name": "stdout",
     "output_type": "stream",
     "text": [
      "0.492 - 1450.7431329181761\n"
     ]
    },
    {
     "name": "stderr",
     "output_type": "stream",
     "text": [
      "/opt/conda/lib/python3.7/site-packages/ipykernel_launcher.py:6: SettingWithCopyWarning: \n",
      "A value is trying to be set on a copy of a slice from a DataFrame.\n",
      "Try using .loc[row_indexer,col_indexer] = value instead\n",
      "\n",
      "See the caveats in the documentation: https://pandas.pydata.org/pandas-docs/stable/user_guide/indexing.html#returning-a-view-versus-a-copy\n",
      "  \n",
      "/opt/conda/lib/python3.7/site-packages/pandas/core/indexing.py:1763: SettingWithCopyWarning: \n",
      "A value is trying to be set on a copy of a slice from a DataFrame.\n",
      "Try using .loc[row_indexer,col_indexer] = value instead\n",
      "\n",
      "See the caveats in the documentation: https://pandas.pydata.org/pandas-docs/stable/user_guide/indexing.html#returning-a-view-versus-a-copy\n",
      "  isetter(loc, value)\n"
     ]
    },
    {
     "name": "stdout",
     "output_type": "stream",
     "text": [
      "0.494 - 1691.7697878056886\n"
     ]
    },
    {
     "name": "stderr",
     "output_type": "stream",
     "text": [
      "/opt/conda/lib/python3.7/site-packages/ipykernel_launcher.py:6: SettingWithCopyWarning: \n",
      "A value is trying to be set on a copy of a slice from a DataFrame.\n",
      "Try using .loc[row_indexer,col_indexer] = value instead\n",
      "\n",
      "See the caveats in the documentation: https://pandas.pydata.org/pandas-docs/stable/user_guide/indexing.html#returning-a-view-versus-a-copy\n",
      "  \n",
      "/opt/conda/lib/python3.7/site-packages/pandas/core/indexing.py:1763: SettingWithCopyWarning: \n",
      "A value is trying to be set on a copy of a slice from a DataFrame.\n",
      "Try using .loc[row_indexer,col_indexer] = value instead\n",
      "\n",
      "See the caveats in the documentation: https://pandas.pydata.org/pandas-docs/stable/user_guide/indexing.html#returning-a-view-versus-a-copy\n",
      "  isetter(loc, value)\n"
     ]
    },
    {
     "name": "stdout",
     "output_type": "stream",
     "text": [
      "0.496 - 1861.281844652147\n"
     ]
    },
    {
     "name": "stderr",
     "output_type": "stream",
     "text": [
      "/opt/conda/lib/python3.7/site-packages/ipykernel_launcher.py:6: SettingWithCopyWarning: \n",
      "A value is trying to be set on a copy of a slice from a DataFrame.\n",
      "Try using .loc[row_indexer,col_indexer] = value instead\n",
      "\n",
      "See the caveats in the documentation: https://pandas.pydata.org/pandas-docs/stable/user_guide/indexing.html#returning-a-view-versus-a-copy\n",
      "  \n",
      "/opt/conda/lib/python3.7/site-packages/pandas/core/indexing.py:1763: SettingWithCopyWarning: \n",
      "A value is trying to be set on a copy of a slice from a DataFrame.\n",
      "Try using .loc[row_indexer,col_indexer] = value instead\n",
      "\n",
      "See the caveats in the documentation: https://pandas.pydata.org/pandas-docs/stable/user_guide/indexing.html#returning-a-view-versus-a-copy\n",
      "  isetter(loc, value)\n"
     ]
    },
    {
     "name": "stdout",
     "output_type": "stream",
     "text": [
      "0.498 - 1846.8142545452615\n"
     ]
    },
    {
     "name": "stderr",
     "output_type": "stream",
     "text": [
      "/opt/conda/lib/python3.7/site-packages/ipykernel_launcher.py:6: SettingWithCopyWarning: \n",
      "A value is trying to be set on a copy of a slice from a DataFrame.\n",
      "Try using .loc[row_indexer,col_indexer] = value instead\n",
      "\n",
      "See the caveats in the documentation: https://pandas.pydata.org/pandas-docs/stable/user_guide/indexing.html#returning-a-view-versus-a-copy\n",
      "  \n",
      "/opt/conda/lib/python3.7/site-packages/pandas/core/indexing.py:1763: SettingWithCopyWarning: \n",
      "A value is trying to be set on a copy of a slice from a DataFrame.\n",
      "Try using .loc[row_indexer,col_indexer] = value instead\n",
      "\n",
      "See the caveats in the documentation: https://pandas.pydata.org/pandas-docs/stable/user_guide/indexing.html#returning-a-view-versus-a-copy\n",
      "  isetter(loc, value)\n"
     ]
    },
    {
     "name": "stdout",
     "output_type": "stream",
     "text": [
      "0.5 - 1601.881635246862\n"
     ]
    },
    {
     "name": "stderr",
     "output_type": "stream",
     "text": [
      "/opt/conda/lib/python3.7/site-packages/ipykernel_launcher.py:6: SettingWithCopyWarning: \n",
      "A value is trying to be set on a copy of a slice from a DataFrame.\n",
      "Try using .loc[row_indexer,col_indexer] = value instead\n",
      "\n",
      "See the caveats in the documentation: https://pandas.pydata.org/pandas-docs/stable/user_guide/indexing.html#returning-a-view-versus-a-copy\n",
      "  \n",
      "/opt/conda/lib/python3.7/site-packages/pandas/core/indexing.py:1763: SettingWithCopyWarning: \n",
      "A value is trying to be set on a copy of a slice from a DataFrame.\n",
      "Try using .loc[row_indexer,col_indexer] = value instead\n",
      "\n",
      "See the caveats in the documentation: https://pandas.pydata.org/pandas-docs/stable/user_guide/indexing.html#returning-a-view-versus-a-copy\n",
      "  isetter(loc, value)\n"
     ]
    },
    {
     "name": "stdout",
     "output_type": "stream",
     "text": [
      "0.502 - 1736.3864308536222\n"
     ]
    },
    {
     "name": "stderr",
     "output_type": "stream",
     "text": [
      "/opt/conda/lib/python3.7/site-packages/ipykernel_launcher.py:6: SettingWithCopyWarning: \n",
      "A value is trying to be set on a copy of a slice from a DataFrame.\n",
      "Try using .loc[row_indexer,col_indexer] = value instead\n",
      "\n",
      "See the caveats in the documentation: https://pandas.pydata.org/pandas-docs/stable/user_guide/indexing.html#returning-a-view-versus-a-copy\n",
      "  \n",
      "/opt/conda/lib/python3.7/site-packages/pandas/core/indexing.py:1763: SettingWithCopyWarning: \n",
      "A value is trying to be set on a copy of a slice from a DataFrame.\n",
      "Try using .loc[row_indexer,col_indexer] = value instead\n",
      "\n",
      "See the caveats in the documentation: https://pandas.pydata.org/pandas-docs/stable/user_guide/indexing.html#returning-a-view-versus-a-copy\n",
      "  isetter(loc, value)\n"
     ]
    },
    {
     "name": "stdout",
     "output_type": "stream",
     "text": [
      "0.504 - 2020.3493162554325\n"
     ]
    },
    {
     "name": "stderr",
     "output_type": "stream",
     "text": [
      "/opt/conda/lib/python3.7/site-packages/ipykernel_launcher.py:6: SettingWithCopyWarning: \n",
      "A value is trying to be set on a copy of a slice from a DataFrame.\n",
      "Try using .loc[row_indexer,col_indexer] = value instead\n",
      "\n",
      "See the caveats in the documentation: https://pandas.pydata.org/pandas-docs/stable/user_guide/indexing.html#returning-a-view-versus-a-copy\n",
      "  \n",
      "/opt/conda/lib/python3.7/site-packages/pandas/core/indexing.py:1763: SettingWithCopyWarning: \n",
      "A value is trying to be set on a copy of a slice from a DataFrame.\n",
      "Try using .loc[row_indexer,col_indexer] = value instead\n",
      "\n",
      "See the caveats in the documentation: https://pandas.pydata.org/pandas-docs/stable/user_guide/indexing.html#returning-a-view-versus-a-copy\n",
      "  isetter(loc, value)\n"
     ]
    },
    {
     "name": "stdout",
     "output_type": "stream",
     "text": [
      "0.506 - 2067.194155797205\n"
     ]
    },
    {
     "name": "stderr",
     "output_type": "stream",
     "text": [
      "/opt/conda/lib/python3.7/site-packages/ipykernel_launcher.py:6: SettingWithCopyWarning: \n",
      "A value is trying to be set on a copy of a slice from a DataFrame.\n",
      "Try using .loc[row_indexer,col_indexer] = value instead\n",
      "\n",
      "See the caveats in the documentation: https://pandas.pydata.org/pandas-docs/stable/user_guide/indexing.html#returning-a-view-versus-a-copy\n",
      "  \n",
      "/opt/conda/lib/python3.7/site-packages/pandas/core/indexing.py:1763: SettingWithCopyWarning: \n",
      "A value is trying to be set on a copy of a slice from a DataFrame.\n",
      "Try using .loc[row_indexer,col_indexer] = value instead\n",
      "\n",
      "See the caveats in the documentation: https://pandas.pydata.org/pandas-docs/stable/user_guide/indexing.html#returning-a-view-versus-a-copy\n",
      "  isetter(loc, value)\n"
     ]
    },
    {
     "name": "stdout",
     "output_type": "stream",
     "text": [
      "0.508 - 2057.840180505042\n"
     ]
    },
    {
     "name": "stderr",
     "output_type": "stream",
     "text": [
      "/opt/conda/lib/python3.7/site-packages/ipykernel_launcher.py:6: SettingWithCopyWarning: \n",
      "A value is trying to be set on a copy of a slice from a DataFrame.\n",
      "Try using .loc[row_indexer,col_indexer] = value instead\n",
      "\n",
      "See the caveats in the documentation: https://pandas.pydata.org/pandas-docs/stable/user_guide/indexing.html#returning-a-view-versus-a-copy\n",
      "  \n",
      "/opt/conda/lib/python3.7/site-packages/pandas/core/indexing.py:1763: SettingWithCopyWarning: \n",
      "A value is trying to be set on a copy of a slice from a DataFrame.\n",
      "Try using .loc[row_indexer,col_indexer] = value instead\n",
      "\n",
      "See the caveats in the documentation: https://pandas.pydata.org/pandas-docs/stable/user_guide/indexing.html#returning-a-view-versus-a-copy\n",
      "  isetter(loc, value)\n"
     ]
    },
    {
     "name": "stdout",
     "output_type": "stream",
     "text": [
      "0.51 - 1882.475017518071\n"
     ]
    },
    {
     "name": "stderr",
     "output_type": "stream",
     "text": [
      "/opt/conda/lib/python3.7/site-packages/ipykernel_launcher.py:6: SettingWithCopyWarning: \n",
      "A value is trying to be set on a copy of a slice from a DataFrame.\n",
      "Try using .loc[row_indexer,col_indexer] = value instead\n",
      "\n",
      "See the caveats in the documentation: https://pandas.pydata.org/pandas-docs/stable/user_guide/indexing.html#returning-a-view-versus-a-copy\n",
      "  \n",
      "/opt/conda/lib/python3.7/site-packages/pandas/core/indexing.py:1763: SettingWithCopyWarning: \n",
      "A value is trying to be set on a copy of a slice from a DataFrame.\n",
      "Try using .loc[row_indexer,col_indexer] = value instead\n",
      "\n",
      "See the caveats in the documentation: https://pandas.pydata.org/pandas-docs/stable/user_guide/indexing.html#returning-a-view-versus-a-copy\n",
      "  isetter(loc, value)\n"
     ]
    },
    {
     "name": "stdout",
     "output_type": "stream",
     "text": [
      "0.512 - 1951.6634310604322\n"
     ]
    },
    {
     "name": "stderr",
     "output_type": "stream",
     "text": [
      "/opt/conda/lib/python3.7/site-packages/ipykernel_launcher.py:6: SettingWithCopyWarning: \n",
      "A value is trying to be set on a copy of a slice from a DataFrame.\n",
      "Try using .loc[row_indexer,col_indexer] = value instead\n",
      "\n",
      "See the caveats in the documentation: https://pandas.pydata.org/pandas-docs/stable/user_guide/indexing.html#returning-a-view-versus-a-copy\n",
      "  \n",
      "/opt/conda/lib/python3.7/site-packages/pandas/core/indexing.py:1763: SettingWithCopyWarning: \n",
      "A value is trying to be set on a copy of a slice from a DataFrame.\n",
      "Try using .loc[row_indexer,col_indexer] = value instead\n",
      "\n",
      "See the caveats in the documentation: https://pandas.pydata.org/pandas-docs/stable/user_guide/indexing.html#returning-a-view-versus-a-copy\n",
      "  isetter(loc, value)\n"
     ]
    },
    {
     "name": "stdout",
     "output_type": "stream",
     "text": [
      "0.514 - 2014.3824336767843\n"
     ]
    },
    {
     "name": "stderr",
     "output_type": "stream",
     "text": [
      "/opt/conda/lib/python3.7/site-packages/ipykernel_launcher.py:6: SettingWithCopyWarning: \n",
      "A value is trying to be set on a copy of a slice from a DataFrame.\n",
      "Try using .loc[row_indexer,col_indexer] = value instead\n",
      "\n",
      "See the caveats in the documentation: https://pandas.pydata.org/pandas-docs/stable/user_guide/indexing.html#returning-a-view-versus-a-copy\n",
      "  \n",
      "/opt/conda/lib/python3.7/site-packages/pandas/core/indexing.py:1763: SettingWithCopyWarning: \n",
      "A value is trying to be set on a copy of a slice from a DataFrame.\n",
      "Try using .loc[row_indexer,col_indexer] = value instead\n",
      "\n",
      "See the caveats in the documentation: https://pandas.pydata.org/pandas-docs/stable/user_guide/indexing.html#returning-a-view-versus-a-copy\n",
      "  isetter(loc, value)\n"
     ]
    },
    {
     "name": "stdout",
     "output_type": "stream",
     "text": [
      "0.516 - 1827.1349168346571\n"
     ]
    },
    {
     "name": "stderr",
     "output_type": "stream",
     "text": [
      "/opt/conda/lib/python3.7/site-packages/ipykernel_launcher.py:6: SettingWithCopyWarning: \n",
      "A value is trying to be set on a copy of a slice from a DataFrame.\n",
      "Try using .loc[row_indexer,col_indexer] = value instead\n",
      "\n",
      "See the caveats in the documentation: https://pandas.pydata.org/pandas-docs/stable/user_guide/indexing.html#returning-a-view-versus-a-copy\n",
      "  \n",
      "/opt/conda/lib/python3.7/site-packages/pandas/core/indexing.py:1763: SettingWithCopyWarning: \n",
      "A value is trying to be set on a copy of a slice from a DataFrame.\n",
      "Try using .loc[row_indexer,col_indexer] = value instead\n",
      "\n",
      "See the caveats in the documentation: https://pandas.pydata.org/pandas-docs/stable/user_guide/indexing.html#returning-a-view-versus-a-copy\n",
      "  isetter(loc, value)\n"
     ]
    },
    {
     "name": "stdout",
     "output_type": "stream",
     "text": [
      "0.518 - 1874.9299282516974\n"
     ]
    }
   ],
   "source": [
    "preds = model(X_val.loc[:, feature_names], training=False)\n",
    "preds = np.median(preds, axis=1)\n",
    "X_val['pred'] = preds\n",
    "\n",
    "def utility_score(data, th):\n",
    "    data['action_pred'] = (data.pred >= th).astype(int)\n",
    "    data.loc[data.weight == 0, 'action_pred'] = 0\n",
    "    p_values = []\n",
    "    for date in data.date.unique():\n",
    "        data_date = data.loc[data.date == date,:].copy()\n",
    "        p_values.append(sum(data_date.weight * data_date.resp * data_date.action_pred))\n",
    "    t = (sum(p_values)/np.sqrt(sum([p**2 for p in p_values])))*np.sqrt(250/len(set(data.date)))\n",
    "    \n",
    "    u = min(max(t,0),6)*sum(p_values)\n",
    "    \n",
    "    return u\n",
    "\n",
    "best_score = 0\n",
    "best_th = 0\n",
    "for th in np.arange(0.45, 0.52, 0.002):\n",
    "    th = np.round(th, 3)\n",
    "    score = utility_score(X_val, th=th)\n",
    "    if score > best_score:\n",
    "        best_th = th\n",
    "        best_score = score\n",
    "    print(str(th) + ' - ' + str(score))"
   ]
  },
  {
   "cell_type": "markdown",
   "metadata": {
    "papermill": {
     "duration": 2.005324,
     "end_time": "2021-02-22T19:21:02.988079",
     "exception": false,
     "start_time": "2021-02-22T19:21:00.982755",
     "status": "completed"
    },
    "tags": []
   },
   "source": [
    "## Submission"
   ]
  },
  {
   "cell_type": "code",
   "execution_count": 20,
   "metadata": {
    "execution": {
     "iopub.execute_input": "2021-02-22T19:21:07.057771Z",
     "iopub.status.busy": "2021-02-22T19:21:07.057233Z",
     "iopub.status.idle": "2021-02-22T19:26:01.599024Z",
     "shell.execute_reply": "2021-02-22T19:26:01.598550Z"
    },
    "papermill": {
     "duration": 296.567269,
     "end_time": "2021-02-22T19:26:01.599162",
     "exception": false,
     "start_time": "2021-02-22T19:21:05.031893",
     "status": "completed"
    },
    "tags": []
   },
   "outputs": [],
   "source": [
    "th = best_th\n",
    "\n",
    "for (test_df, pred_df) in iter_test:\n",
    "    if test_df['weight'].item() > 0:       \n",
    "        x_tt = test_df.loc[:, feature_names].values\n",
    "        if np.isnan(x_tt[:, 1:].sum()):\n",
    "            x_tt[:, 1:] = np.nan_to_num(x_tt[:, 1:]) + np.isnan(x_tt[:, 1:]) * f_mean\n",
    "        pred = model(x_tt, training=False)\n",
    "        pred = np.median(pred)\n",
    "        pred_df.action = np.where(pred >= th, 1, 0).astype(int)\n",
    "    else:\n",
    "        pred_df.action = 0\n",
    "    \n",
    "    env.predict(pred_df)"
   ]
  }
 ],
 "metadata": {
  "kernelspec": {
   "display_name": "Python 3",
   "language": "python",
   "name": "python3"
  },
  "language_info": {
   "codemirror_mode": {
    "name": "ipython",
    "version": 3
   },
   "file_extension": ".py",
   "mimetype": "text/x-python",
   "name": "python",
   "nbconvert_exporter": "python",
   "pygments_lexer": "ipython3",
   "version": "3.7.9"
  },
  "papermill": {
   "default_parameters": {},
   "duration": 1035.430053,
   "end_time": "2021-02-22T19:26:06.902158",
   "environment_variables": {},
   "exception": null,
   "input_path": "__notebook__.ipynb",
   "output_path": "__notebook__.ipynb",
   "parameters": {},
   "start_time": "2021-02-22T19:08:51.472105",
   "version": "2.2.2"
  }
 },
 "nbformat": 4,
 "nbformat_minor": 4
}
